{
 "cells": [
  {
   "cell_type": "markdown",
   "id": "84837892",
   "metadata": {},
   "source": [
    "### Theoretical Question"
   ]
  },
  {
   "cell_type": "code",
   "execution_count": 21,
   "id": "92a772ae",
   "metadata": {},
   "outputs": [],
   "source": [
    "import statistics\n",
    "from collections import Counter\n",
    "import timeit\n",
    "from matplotlib import pyplot as plt\n",
    "from numpy.random import randint\n",
    "import time"
   ]
  },
  {
   "cell_type": "code",
   "execution_count": 7,
   "id": "ad10a0e1",
   "metadata": {},
   "outputs": [],
   "source": [
    "dict_={}\n",
    "count=1\n",
    "with open(\"/home/sophja/Documenti/ADM/ApplicantsInfo.txt\",\"r\", encoding='utf-8') as in_file:\n",
    "    prima=in_file.readline() #line where is present number of students and number of exames taked by the students\n",
    "    for line in in_file:\n",
    "        line=line.replace('\\n','').split(' ') \n",
    "        name=line[0]+' '+line[1] #take the name of each student\n",
    "        integ=[int(i) for i in line[2:]] #turn the exames values as integer\n",
    "        mean=statistics.mean(integ) #calculate the mean of the exames results\n",
    "        if name in dict_.keys():\n",
    "            name+=str(count)\n",
    "            count+=1\n",
    "        dict_[name]=round(mean,2) #create a dictionary with the name of the student as key and the mean of the exames as values\n",
    "c=Counter(dict_.values()) #we count how many people has the same mean        "
   ]
  },
  {
   "cell_type": "markdown",
   "id": "f85f10bf",
   "metadata": {},
   "source": [
    "There were count people with the same names, I added a number after their surname to separate them"
   ]
  },
  {
   "cell_type": "code",
   "execution_count": 8,
   "id": "7c8494af",
   "metadata": {
    "scrolled": true
   },
   "outputs": [
    {
     "data": {
      "text/plain": [
       "2420"
      ]
     },
     "execution_count": 8,
     "metadata": {},
     "output_type": "execute_result"
    }
   ],
   "source": [
    "count"
   ]
  },
  {
   "cell_type": "markdown",
   "id": "a3297f1a",
   "metadata": {},
   "source": [
    "Now we sort the keys on our Counter c. The keys of the Counter are the mean of the exames tooked just one time (if two people hase the same exame's mean we sort it just once)"
   ]
  },
  {
   "cell_type": "code",
   "execution_count": 15,
   "id": "d07add38",
   "metadata": {},
   "outputs": [],
   "source": [
    "to_sort=[i for i in c.keys()]\n",
    "sorted_=mergeSort(to_sort)"
   ]
  },
  {
   "cell_type": "markdown",
   "id": "f1c7b2fd",
   "metadata": {},
   "source": [
    "We create the RankingList.txt after creating a sorted list of the exam's results; find the keys of the values od the dictionary dict_ we created and write down on the file the keys(name and surname) and the values (mean of the exames's result) "
   ]
  },
  {
   "cell_type": "code",
   "execution_count": 16,
   "id": "04a1c33f",
   "metadata": {},
   "outputs": [],
   "source": [
    "with open ('RankingList.txt', 'a', encoding='utf-8') as out_file:\n",
    "    for i in sorted_:\n",
    "        keys = [k for k, v in dict_.items() if v == i]\n",
    "        for el in keys:\n",
    "            out_file.write('{} {}'.format(el, i))\n",
    "            out_file.write('\\n')\n"
   ]
  },
  {
   "cell_type": "markdown",
   "id": "63a08709",
   "metadata": {},
   "source": [
    "### MergeSort"
   ]
  },
  {
   "cell_type": "code",
   "execution_count": 102,
   "id": "ed0b5b3a",
   "metadata": {},
   "outputs": [],
   "source": [
    "def mergeSort(myList):\n",
    "    start_time = timeit.default_timer() #start timer\n",
    "    dt=[]\n",
    "    if len(myList) > 1:\n",
    "        mid = len(myList) // 2\n",
    "        left = myList[:mid]\n",
    "        right = myList[mid:]\n",
    "\n",
    "        # Recursive call on each half\n",
    "        mergeSort(left)\n",
    "        mergeSort(right)\n",
    "\n",
    "        # Two iterators for traversing the two halves\n",
    "        i = 0\n",
    "        j = 0\n",
    "        \n",
    "        # Iterator for the main list\n",
    "        k = 0\n",
    "        \n",
    "        while i < len(left) and j < len(right):\n",
    "            dt.append(timeit.default_timer()-start_time)\n",
    "            if left[i] >= right[j]:\n",
    "              # The value from the left half has been used\n",
    "                myList[k] = left[i]\n",
    "              # Move the iterator forward\n",
    "                i += 1\n",
    "            else:\n",
    "                myList[k] = right[j]\n",
    "                j += 1\n",
    "            # Move to the next slot\n",
    "            k += 1\n",
    "\n",
    "        # For all the remaining values\n",
    "        while i < len(left):\n",
    "            dt.append(timeit.default_timer()-start_time)\n",
    "            myList[k] = left[i]\n",
    "            i += 1\n",
    "            k += 1\n",
    "\n",
    "        while j < len(right):\n",
    "            dt.append(timeit.default_timer()-start_time)\n",
    "            myList[k]=right[j]\n",
    "            j += 1\n",
    "            k += 1\n",
    "    return myList"
   ]
  },
  {
   "cell_type": "markdown",
   "id": "e42d43d7",
   "metadata": {},
   "source": [
    "#### Time complexity"
   ]
  },
  {
   "cell_type": "markdown",
   "id": "b4f40675",
   "metadata": {},
   "source": [
    "In Merge Sort, the given unsorted array with n elements, is divided into n subarrays, each having one element, because a single element is always sorted in itself. Then, it repeatedly merges these subarrays, to produce new sorted subarrays, and in the end, one complete sorted array is produced.\n",
    "\n",
    "The concept of Divide and Conquer involves three steps:\n",
    "\n",
    "1-Divide the problem into multiple small problems. \n",
    "\n",
    "2-Conquer the subproblems by solving them. The idea is to break down the problem into atomic subproblems, where they are actually solved.\n",
    "\n",
    "3-Combine the solutions of the subproblems to find the solution of the actual problem.\n",
    "\n",
    "Whenever we divide a number into half in every step, it can be represented using a logarithmic function, which is log n and the number of steps can be represented by log n + 1(at most)\n",
    "\n",
    "Also, we perform a single step operation to find out the middle of any subarray, i.e. O(1).\n",
    "\n",
    "And to merge the subarrays, made by dividing the original array of n elements, a running time of O(n) will be required.\n",
    "\n",
    "Hence the total time for mergeSort function will become n(log n + 1), which gives us a time complexity of O(n*log n).\n"
   ]
  },
  {
   "cell_type": "code",
   "execution_count": 29,
   "id": "82b95bb3",
   "metadata": {},
   "outputs": [
    {
     "name": "stdout",
     "output_type": "stream",
     "text": [
      "1000 Elements Sorted by MergeSort in  0.08099770545959473\n",
      "2000 Elements Sorted by MergeSort in  0.2542450428009033\n",
      "3000 Elements Sorted by MergeSort in  0.5711002349853516\n",
      "4000 Elements Sorted by MergeSort in  1.049534797668457\n",
      "5000 Elements Sorted by MergeSort in  1.6052882671356201\n",
      "6000 Elements Sorted by MergeSort in  2.4087021350860596\n",
      "7000 Elements Sorted by MergeSort in  3.345608949661255\n",
      "8000 Elements Sorted by MergeSort in  7.306535720825195\n",
      "9000 Elements Sorted by MergeSort in  5.3661863803863525\n"
     ]
    },
    {
     "data": {
      "image/png": "[encoded data removed]",
      "text/plain": [
       "<Figure size 640x480 with 1 Axes>"
      ]
     },
     "metadata": {},
     "output_type": "display_data"
    }
   ],
   "source": [
    "elements = list()\n",
    "times = list()\n",
    "for i in range(1, 10):\n",
    " \n",
    "    # generate some integers\n",
    "    a = randint(0, 1000 * i, 1000 * i)\n",
    "    # print(i)\n",
    "    start = time.time()\n",
    "    insertionSort(a)\n",
    "    end = time.time()\n",
    " \n",
    "    # print(\"Sorted list is \", a)\n",
    "    print(len(a), \"Elements Sorted by MergeSort in \", end-start)\n",
    "    elements.append(len(a))\n",
    "    times.append(end-start)\n",
    " \n",
    "plt.xlabel('List Length')\n",
    "plt.ylabel('Time Complexity')\n",
    "plt.plot(elements, times, label ='MergeSort')\n",
    "plt.grid()\n",
    "plt.legend()\n",
    "plt.show()"
   ]
  },
  {
   "cell_type": "markdown",
   "id": "a9bc93cc",
   "metadata": {},
   "source": [
    "### IsertionSort"
   ]
  },
  {
   "cell_type": "code",
   "execution_count": 27,
   "id": "7f14b85a",
   "metadata": {},
   "outputs": [],
   "source": [
    "def insertionSort(lista):\n",
    "\n",
    "    for step in range(1, len(lista)):\n",
    "        key = lista[step]\n",
    "        j = step - 1\n",
    "        \n",
    "        # Compare key with each element on the left of it until an element smaller than it is found        \n",
    "        while j >= 0 and key > lista[j]:\n",
    "            lista[j + 1] = lista[j]\n",
    "            j = j - 1\n",
    "        \n",
    "        # Place key at after the element just grater than it.\n",
    "        lista[j + 1] = key\n",
    "    return lista"
   ]
  },
  {
   "cell_type": "markdown",
   "id": "98c5d575",
   "metadata": {},
   "source": [
    "#### Time complexity\n",
    "\n",
    "Following are the steps involved in the Insertion sort:\n",
    "\n",
    "We make the element of the given array at position array[step] as the key. The key here is the new element that we need to add to our existing sorted set of element.\n",
    "\n",
    "We compare the key element with the elements before it.\n",
    "\n",
    "If the key element is grater than the element right before, we continue checking the elements on the left of the array\n",
    "Then, we make the next element of the array as key and will compare it with elements to it's left and insert it at the right position.\n",
    "\n",
    "And we go on repeating this, until the array is sorted.\n",
    "\n",
    "At worst, if we have an array sorted in reverse respect the sort we are looking for, i.e. our array is in ascending order and we want a descenting order, the time complixity will be O(n^2).\n",
    "\n",
    "At best case, if we have an aray already sorted,we have to check all the elements of the array. The time complexity is O(n)"
   ]
  },
  {
   "cell_type": "code",
   "execution_count": 28,
   "id": "afd46d5e",
   "metadata": {},
   "outputs": [
    {
     "name": "stdout",
     "output_type": "stream",
     "text": [
      "1000 Elements Sorted by insertionSort in  0.08377194404602051\n",
      "2000 Elements Sorted by insertionSort in  0.2605001926422119\n",
      "3000 Elements Sorted by insertionSort in  0.5767045021057129\n",
      "4000 Elements Sorted by insertionSort in  1.0671031475067139\n",
      "5000 Elements Sorted by insertionSort in  1.7143588066101074\n",
      "6000 Elements Sorted by insertionSort in  2.395122766494751\n",
      "7000 Elements Sorted by insertionSort in  3.3365495204925537\n",
      "8000 Elements Sorted by insertionSort in  4.539979934692383\n",
      "9000 Elements Sorted by insertionSort in  7.977052688598633\n"
     ]
    },
    {
     "data": {
      "image/png": "[encoded data removed]",
      "text/plain": [
       "<Figure size 640x480 with 1 Axes>"
      ]
     },
     "metadata": {},
     "output_type": "display_data"
    }
   ],
   "source": [
    "elements = list()\n",
    "times = list()\n",
    "for i in range(1, 10):\n",
    " \n",
    "    # generate some integers\n",
    "    a = randint(0, 1000 * i, 1000 * i)\n",
    "    # print(i)\n",
    "    start = time.time()\n",
    "    insertionSort(a)\n",
    "    end = time.time()\n",
    " \n",
    "    # print(\"Sorted list is \", a)\n",
    "    print(len(a), \"Elements Sorted by insertionSort in \", end-start)\n",
    "    elements.append(len(a))\n",
    "    times.append(end-start)\n",
    " \n",
    "plt.xlabel('List Length')\n",
    "plt.ylabel('Time Complexity')\n",
    "plt.plot(elements, times, label ='insertionSort')\n",
    "plt.grid()\n",
    "plt.legend()\n",
    "plt.show()"
   ]
  },
  {
   "cell_type": "markdown",
   "id": "230a4fdf",
   "metadata": {},
   "source": [
    "### Selection Sort"
   ]
  },
  {
   "cell_type": "code",
   "execution_count": 4,
   "id": "0c2945f8",
   "metadata": {},
   "outputs": [],
   "source": [
    "def selectionSort(lista):\n",
    "    start_time = timeit.default_timer() #start timer\n",
    "# Traverse through all array elements\n",
    "    for i in range(len(lista)):\n",
    "     \n",
    "    # Find the minimum element in remaining\n",
    "    # unsorted array\n",
    "        max_idx = i\n",
    "        for j in range(i+1, len(lista)):\n",
    "            if lista[max_idx] < lista[j]:\n",
    "                max_idx = j\n",
    "             \n",
    "    # Swap the found minimum element with\n",
    "    # the first element       \n",
    "        lista[i], lista[max_idx] = lista[max_idx], lista[i]\n",
    " \n",
    "    return lista"
   ]
  },
  {
   "cell_type": "markdown",
   "id": "1469f56c",
   "metadata": {},
   "source": [
    "#### Time complexity\n",
    "\n",
    "The Selection Sort uses two for cycle to sort the list. \n",
    "\n",
    "The first for is used to positioning the number in the right spot, the second for is used to search every time for the max number of the array right of the already sorted numbers.\n",
    "\n",
    "We start at the first position (i=0) and we scroll the array to search for the maximun number with the second for, then we switch lista[i] with lista[max]. Then we increment the i and we search from i+1 (just the element we didn't sort) for the max.\n",
    "\n",
    "So we scroll for all the n elements of the list, all the n elements O(n^2)\n",
    "\n",
    "If the array is already sorted, we always do the same check, scrolling the array for every element O(n^2)"
   ]
  },
  {
   "cell_type": "code",
   "execution_count": 25,
   "id": "17e9e611",
   "metadata": {
    "scrolled": false
   },
   "outputs": [
    {
     "name": "stdout",
     "output_type": "stream",
     "text": [
      "1000 Elements Sorted by selectionSort in  0.09569978713989258\n",
      "2000 Elements Sorted by selectionSort in  0.30956554412841797\n",
      "3000 Elements Sorted by selectionSort in  0.6441831588745117\n",
      "4000 Elements Sorted by selectionSort in  1.136770486831665\n",
      "5000 Elements Sorted by selectionSort in  1.7900755405426025\n",
      "6000 Elements Sorted by selectionSort in  2.506206750869751\n",
      "7000 Elements Sorted by selectionSort in  6.131228685379028\n",
      "8000 Elements Sorted by selectionSort in  7.30403208732605\n",
      "9000 Elements Sorted by selectionSort in  8.859710931777954\n"
     ]
    },
    {
     "data": {
      "image/png": "[encoded data removed]",
      "text/plain": [
       "<Figure size 640x480 with 1 Axes>"
      ]
     },
     "metadata": {},
     "output_type": "display_data"
    }
   ],
   "source": [
    "elements = list()\n",
    "times = list()\n",
    "for i in range(1, 10):\n",
    " \n",
    "    # generate some integers\n",
    "    a = randint(0, 1000 * i, 1000 * i)\n",
    "    # print(i)\n",
    "    start = time.time()\n",
    "    selectionSort(a)\n",
    "    end = time.time()\n",
    " \n",
    "    # print(\"Sorted list is \", a)\n",
    "    print(len(a), \"Elements Sorted by selectionSort in \", end-start)\n",
    "    elements.append(len(a))\n",
    "    times.append(end-start)\n",
    " \n",
    "plt.xlabel('List Length')\n",
    "plt.ylabel('Time Complexity')\n",
    "plt.plot(elements, times, label ='selectionSort')\n",
    "plt.grid()\n",
    "plt.legend()\n",
    "plt.show()"
   ]
  },
  {
   "cell_type": "markdown",
   "id": "3d855f0f",
   "metadata": {},
   "source": [
    "##### What is the most optimal algorithm, in your opinion, and why?"
   ]
  },
  {
   "cell_type": "markdown",
   "id": "479014dc",
   "metadata": {},
   "source": [
    "The optimal algorithm between the ones I implemented is the merge sort. The divide-and-conquer algorithm breaks down a big problem into smaller, \n",
    "more manageable pieces that look similar to the initial problem. \n",
    "It then solves these subproblems and puts their solutions together to solve the original problem. "
   ]
  },
  {
   "cell_type": "code",
   "execution_count": null,
   "id": "ed64e543",
   "metadata": {},
   "outputs": [],
   "source": []
  }
 ],
 "metadata": {
  "kernelspec": {
   "display_name": "Python 3 (ipykernel)",
   "language": "python",
   "name": "python3"
  },
  "language_info": {
   "codemirror_mode": {
    "name": "ipython",
    "version": 3
   },
   "file_extension": ".py",
   "mimetype": "text/x-python",
   "name": "python",
   "nbconvert_exporter": "python",
   "pygments_lexer": "ipython3",
   "version": "3.9.13"
  }
 },
 "nbformat": 4,
 "nbformat_minor": 5
}
