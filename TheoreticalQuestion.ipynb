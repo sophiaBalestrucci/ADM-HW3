{
 "cells": [
  {
   "cell_type": "markdown",
   "id": "84837892",
   "metadata": {},
   "source": [
    "### Theoretical Question"
   ]
  },
  {
   "cell_type": "code",
   "execution_count": 39,
   "id": "92a772ae",
   "metadata": {},
   "outputs": [],
   "source": [
    "import statistics"
   ]
  },
  {
   "cell_type": "code",
   "execution_count": 104,
   "id": "ad10a0e1",
   "metadata": {},
   "outputs": [],
   "source": [
    "dict_={}\n",
    "with open(r\"C:\\Users\\soph\\Documents\\datascience\\adm\\ApplicantsInfo.txt\",\"r\", encoding='utf-8') as in_file:\n",
    "    prima=in_file.readline() #line where is present number of students and number of exames taked by the students\n",
    "    for line in in_file:\n",
    "        line=in_file.readline() #read next line\n",
    "        line=line.replace('\\n','').split(' ') \n",
    "        name=line[0]+' '+line[1] #take the name of each student\n",
    "        integ=[int(i) for i in line[2:]] #turn the exames values as integer\n",
    "        mean=statistics.mean(integ) #calculate the mean of the exames results\n",
    "        dict_[name]=round(mean,2) #create a dictionary with the name of the student as key and the mean of the exames as values\n",
    "lista=[i for i in dict_.values()]        "
   ]
  },
  {
   "cell_type": "markdown",
   "id": "f1c7b2fd",
   "metadata": {},
   "source": [
    "We create the RankingList.txt after creating a sorted list of the exam's results; find the key of that values and write down on the file the key(name and surname) and the value (mean of the exames's result) "
   ]
  },
  {
   "cell_type": "code",
   "execution_count": 93,
   "id": "04a1c33f",
   "metadata": {},
   "outputs": [],
   "source": [
    "with open ('RankingList.txt', 'a', encoding='utf-8') as out_file:\n",
    "    for i in lista_ord:\n",
    "        keys = [k for k, v in dict_.items() if v == i]\n",
    "        for el in keys:\n",
    "            out_file.write('{} {}'.format(el, i))\n",
    "            out_file.write('\\n')\n"
   ]
  },
  {
   "cell_type": "markdown",
   "id": "63a08709",
   "metadata": {},
   "source": [
    "### MergeSort"
   ]
  },
  {
   "cell_type": "code",
   "execution_count": 102,
   "id": "ed0b5b3a",
   "metadata": {},
   "outputs": [],
   "source": [
    "def mergeSort(myList):\n",
    "    if len(myList) > 1:\n",
    "        mid = len(myList) // 2\n",
    "        left = myList[:mid]\n",
    "        right = myList[mid:]\n",
    "\n",
    "        # Recursive call on each half\n",
    "        mergeSort(left)\n",
    "        mergeSort(right)\n",
    "\n",
    "        # Two iterators for traversing the two halves\n",
    "        i = 0\n",
    "        j = 0\n",
    "        \n",
    "        # Iterator for the main list\n",
    "        k = 0\n",
    "        \n",
    "        while i < len(left) and j < len(right):\n",
    "            if left[i] >= right[j]:\n",
    "              # The value from the left half has been used\n",
    "                myList[k] = left[i]\n",
    "              # Move the iterator forward\n",
    "                i += 1\n",
    "            else:\n",
    "                myList[k] = right[j]\n",
    "                j += 1\n",
    "            # Move to the next slot\n",
    "            k += 1\n",
    "\n",
    "        # For all the remaining values\n",
    "        while i < len(left):\n",
    "            myList[k] = left[i]\n",
    "            i += 1\n",
    "            k += 1\n",
    "\n",
    "        while j < len(right):\n",
    "            myList[k]=right[j]\n",
    "            j += 1\n",
    "            k += 1\n",
    "    return myList"
   ]
  },
  {
   "cell_type": "markdown",
   "id": "e42d43d7",
   "metadata": {},
   "source": [
    "#### Time complexity"
   ]
  },
  {
   "cell_type": "markdown",
   "id": "b4f40675",
   "metadata": {},
   "source": [
    "In Merge Sort, the given unsorted array with n elements, is divided into n subarrays, each having one element, because a single element is always sorted in itself. Then, it repeatedly merges these subarrays, to produce new sorted subarrays, and in the end, one complete sorted array is produced.\n",
    "\n",
    "The concept of Divide and Conquer involves three steps:\n",
    "\n",
    "1-Divide the problem into multiple small problems. \n",
    "\n",
    "2-Conquer the subproblems by solving them. The idea is to break down the problem into atomic subproblems, where they are actually solved.\n",
    "\n",
    "3-Combine the solutions of the subproblems to find the solution of the actual problem.\n",
    "\n",
    "Whenever we divide a number into half in every step, it can be represented using a logarithmic function, which is log n and the number of steps can be represented by log n + 1(at most)\n",
    "\n",
    "Also, we perform a single step operation to find out the middle of any subarray, i.e. O(1).\n",
    "\n",
    "And to merge the subarrays, made by dividing the original array of n elements, a running time of O(n) will be required.\n",
    "\n",
    "Hence the total time for mergeSort function will become n(log n + 1), which gives us a time complexity of O(n*log n).\n"
   ]
  },
  {
   "cell_type": "markdown",
   "id": "a9bc93cc",
   "metadata": {},
   "source": [
    "### IsertionSort"
   ]
  },
  {
   "cell_type": "code",
   "execution_count": 95,
   "id": "7f14b85a",
   "metadata": {},
   "outputs": [],
   "source": [
    "def insertionSort(lista):\n",
    "\n",
    "    for step in range(1, len(lista)):\n",
    "        key = lista[step]\n",
    "        j = step - 1\n",
    "        \n",
    "        # Compare key with each element on the left of it until an element smaller than it is found        \n",
    "        while j >= 0 and key > lista[j]:\n",
    "            lista[j + 1] = lista[j]\n",
    "            j = j - 1\n",
    "        \n",
    "        # Place key at after the element just grater than it.\n",
    "        lista[j + 1] = key\n",
    "    return lista"
   ]
  },
  {
   "cell_type": "markdown",
   "id": "98c5d575",
   "metadata": {},
   "source": [
    "Following are the steps involved in insertion sort:\n",
    "\n",
    "We make the element of the given array at position array[step] as the key. The key here is the new element that we need to add to our existing sorted set of element.\n",
    "\n",
    "We compare the key element with the element(s) before it.\n",
    "\n",
    "If the key element is grater than the element right before, we continue checking the elements on the left of the array\n",
    "Then, we make the next element of the array as key and will compare it with elements to it's left and insert it at the right position.\n",
    "\n",
    "And we go on repeating this, until the array is sorted.\n",
    "\n",
    "At worst, if we have an array sorted in reverse respect the sort we are looking for, i.e. our array is in ascending order and we want a descenting order, the time complixity will be O(n^2).\n",
    "\n",
    "At best case, if we have an aray already sorted,we have to check all the elements of the array. The time complexity is O(n)"
   ]
  }
 ],
 "metadata": {
  "kernelspec": {
   "display_name": "Python 3 (ipykernel)",
   "language": "python",
   "name": "python3"
  },
  "language_info": {
   "codemirror_mode": {
    "name": "ipython",
    "version": 3
   },
   "file_extension": ".py",
   "mimetype": "text/x-python",
   "name": "python",
   "nbconvert_exporter": "python",
   "pygments_lexer": "ipython3",
   "version": "3.9.12"
  }
 },
 "nbformat": 4,
 "nbformat_minor": 5
}
