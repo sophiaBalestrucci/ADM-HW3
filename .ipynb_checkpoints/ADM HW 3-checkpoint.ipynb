{
 "cells": [
  {
   "cell_type": "code",
   "execution_count": 1,
   "id": "c28f4913",
   "metadata": {},
   "outputs": [],
   "source": [
    "from bs4 import BeautifulSoup\n",
    "import requests\n",
    "import lxml"
   ]
  },
  {
   "cell_type": "code",
   "execution_count": 2,
   "id": "2fc6ad95",
   "metadata": {},
   "outputs": [],
   "source": [
    "url2='https://www.atlasobscura.com/places?page='\n",
    "sort='&sort=likes_count'"
   ]
  },
  {
   "cell_type": "code",
   "execution_count": 3,
   "id": "91480e39",
   "metadata": {},
   "outputs": [],
   "source": [
    "#create a file to put all the URLs\n",
    "f=open(\"urlpages.txt\",\"w\")\n",
    "for page in range(1,401):\n",
    "    url=url2+str(page)+sort\n",
    "    page=requests.get(url)\n",
    "    soup=BeautifulSoup(page.content,features='lxml') #parser method \n",
    "    for a in soup.find_all('a',class_=\"content-card content-card-place\"):#The class where the URL is\n",
    "        f.write(a.get('href')+'\\n')\n",
    "f.close()"
   ]
  },
  {
   "cell_type": "markdown",
   "id": "7c288d31",
   "metadata": {},
   "source": [
    "### NOTES:\n",
    "\n",
    "soup=BeautifulSoup(content,'lxml')\n",
    "\n",
    "#soup instance. \n",
    "#lxml--> parser method \n",
    "\n",
    "\n",
    "## to find the first \"h5\" tag\n",
    "tags=soup.find('h5')\n",
    "\n",
    "## to find all the \"h5\" tags\n",
    "tags=soup.find_all('h5')\n",
    "\n",
    "tags=soup.find_all('div', class_='...')\n",
    "\n",
    "<div> is the tag name in the HTML.\n",
    "<a> is the tag also.\n",
    "    \n",
    "course_cards=soup.find_all('div', class_='cards')    \n",
    "for course in course_cards:\n",
    "    course_name=course.h5.text \n",
    "    ##.text is the attributes of the h5 tag.\n",
    "    course_price=course.a.text.split()[-1]\n",
    "    \n",
    "\n",
    "for example:\n",
    "<h5> Python for beginners \n",
    "<a> Start for 20$\n",
    "\n",
    "<h5> Python web Dev.\n",
    "<a> Start for 50$\n",
    "    \n",
    "<h5> Python MACHINE LEARNING\n",
    "<a> Start for 100$    \n",
    "\n",
    "course_name=course.h5.text --->returns sentence in the <h5> tags.(include Name)\n",
    "course_price=course.a.text ---> returns  <a> tags which include price)\n",
    "\n",
    "course_price=course.a.text.split()[-1]--> returns the last element of text. (price)\n",
    "\n",
    "print(f'{course_name} costs {course_price}  )\n",
    "\n",
    ">>Python for beginners costs 20$"
   ]
  },
  {
   "cell_type": "code",
   "execution_count": null,
   "id": "c675540d",
   "metadata": {},
   "outputs": [],
   "source": [
    "#QUESTION 2 #\n",
    "\n",
    "\n",
    "#https://www.nltk.org/"
   ]
  },
  {
   "cell_type": "code",
   "execution_count": 11,
   "id": "849f6a35",
   "metadata": {},
   "outputs": [],
   "source": [
    "import nltk"
   ]
  },
  {
   "cell_type": "code",
   "execution_count": null,
   "id": "e9bc6381",
   "metadata": {},
   "outputs": [],
   "source": []
  },
  {
   "cell_type": "code",
   "execution_count": null,
   "id": "d3b47aec",
   "metadata": {},
   "outputs": [],
   "source": []
  },
  {
   "cell_type": "code",
   "execution_count": null,
   "id": "675e4709",
   "metadata": {},
   "outputs": [],
   "source": []
  },
  {
   "cell_type": "code",
   "execution_count": null,
   "id": "614167b2",
   "metadata": {},
   "outputs": [],
   "source": []
  },
  {
   "cell_type": "code",
   "execution_count": null,
   "id": "27294916",
   "metadata": {},
   "outputs": [],
   "source": []
  },
  {
   "cell_type": "code",
   "execution_count": null,
   "id": "c1bd8a50",
   "metadata": {},
   "outputs": [],
   "source": []
  },
  {
   "cell_type": "code",
   "execution_count": null,
   "id": "49b0d16c",
   "metadata": {},
   "outputs": [],
   "source": []
  },
  {
   "cell_type": "code",
   "execution_count": null,
   "id": "04191fce",
   "metadata": {},
   "outputs": [],
   "source": []
  },
  {
   "cell_type": "code",
   "execution_count": null,
   "id": "d330cc70",
   "metadata": {},
   "outputs": [],
   "source": []
  },
  {
   "cell_type": "code",
   "execution_count": null,
   "id": "c6f07087",
   "metadata": {},
   "outputs": [],
   "source": []
  },
  {
   "cell_type": "code",
   "execution_count": null,
   "id": "876e4142",
   "metadata": {},
   "outputs": [],
   "source": []
  },
  {
   "cell_type": "code",
   "execution_count": null,
   "id": "c903e045",
   "metadata": {},
   "outputs": [],
   "source": []
  },
  {
   "cell_type": "code",
   "execution_count": null,
   "id": "8ea2259e",
   "metadata": {},
   "outputs": [],
   "source": []
  },
  {
   "cell_type": "code",
   "execution_count": null,
   "id": "40fd92dd",
   "metadata": {},
   "outputs": [],
   "source": []
  },
  {
   "cell_type": "code",
   "execution_count": null,
   "id": "120480be",
   "metadata": {},
   "outputs": [],
   "source": []
  },
  {
   "cell_type": "code",
   "execution_count": null,
   "id": "fa211e6c",
   "metadata": {},
   "outputs": [],
   "source": []
  }
 ],
 "metadata": {
  "kernelspec": {
   "display_name": "Python 3 (ipykernel)",
   "language": "python",
   "name": "python3"
  },
  "language_info": {
   "codemirror_mode": {
    "name": "ipython",
    "version": 3
   },
   "file_extension": ".py",
   "mimetype": "text/x-python",
   "name": "python",
   "nbconvert_exporter": "python",
   "pygments_lexer": "ipython3",
   "version": "3.9.13"
  }
 },
 "nbformat": 4,
 "nbformat_minor": 5
}
