{
 "cells": [
  {
   "cell_type": "code",
   "execution_count": 1,
   "id": "c28f4913",
   "metadata": {},
   "outputs": [],
   "source": [
    "from bs4 import BeautifulSoup\n",
    "import requests\n",
    "import lxml"
   ]
  },
  {
   "cell_type": "code",
   "execution_count": 2,
   "id": "2fc6ad95",
   "metadata": {},
   "outputs": [],
   "source": [
    "url2='https://www.atlasobscura.com/places?page='\n",
    "sort='&sort=likes_count'"
   ]
  },
  {
   "cell_type": "code",
   "execution_count": null,
   "id": "91480e39",
   "metadata": {},
   "outputs": [],
   "source": [
    "#create a file to put all the URLs\n",
    "f=open(\"urlpages.txt\",\"w\")\n",
    "for page in range(1,401):\n",
    "    url=url2+str(page)+sort\n",
    "    page=requests.get(url)\n",
    "    soup=BeautifulSoup(page.content,features='lxml') #parser method \n",
    "    for a in soup.find_all('a',class_=\"content-card content-card-place\"):#The class where the URL is\n",
    "        f.write(a.get('href')+'\\n')\n",
    "f.close()"
   ]
  },
  {
   "cell_type": "markdown",
   "id": "4eed1303",
   "metadata": {},
   "source": [
    "### NOTES:\n",
    "\n",
    "soup=BeautifulSoup(page.content,features='lxml')\n",
    "\n",
    "#soup instance. \n",
    "#lxml--> parser method \n",
    "\n",
    "\n",
    "tags=\n"
   ]
  },
  {
   "cell_type": "code",
   "execution_count": null,
   "id": "911c4e35",
   "metadata": {},
   "outputs": [],
   "source": []
  },
  {
   "cell_type": "code",
   "execution_count": null,
   "id": "b87fc275",
   "metadata": {},
   "outputs": [],
   "source": []
  },
  {
   "cell_type": "code",
   "execution_count": null,
   "id": "9b429ae0",
   "metadata": {},
   "outputs": [],
   "source": []
  },
  {
   "cell_type": "code",
   "execution_count": null,
   "id": "561328c0",
   "metadata": {},
   "outputs": [],
   "source": []
  },
  {
   "cell_type": "code",
   "execution_count": null,
   "id": "7425988f",
   "metadata": {},
   "outputs": [],
   "source": []
  },
  {
   "cell_type": "code",
   "execution_count": null,
   "id": "2922bb20",
   "metadata": {},
   "outputs": [],
   "source": []
  },
  {
   "cell_type": "code",
   "execution_count": null,
   "id": "a9f09832",
   "metadata": {},
   "outputs": [],
   "source": []
  },
  {
   "cell_type": "code",
   "execution_count": null,
   "id": "3fb26147",
   "metadata": {},
   "outputs": [],
   "source": []
  }
 ],
 "metadata": {
  "kernelspec": {
   "display_name": "Python 3 (ipykernel)",
   "language": "python",
   "name": "python3"
  },
  "language_info": {
   "codemirror_mode": {
    "name": "ipython",
    "version": 3
   },
   "file_extension": ".py",
   "mimetype": "text/x-python",
   "name": "python",
   "nbconvert_exporter": "python",
   "pygments_lexer": "ipython3",
   "version": "3.9.13"
  }
 },
 "nbformat": 4,
 "nbformat_minor": 5
}
