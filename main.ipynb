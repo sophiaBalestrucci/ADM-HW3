{
 "cells": [
  {
   "cell_type": "code",
   "execution_count": 1,
   "id": "efc88ab5",
   "metadata": {},
   "outputs": [],
   "source": [
    "from bs4 import BeautifulSoup\n",
    "import requests\n",
    "import lxml\n",
    "import os"
   ]
  },
  {
   "cell_type": "markdown",
   "id": "14d5bdae",
   "metadata": {},
   "source": [
    "### 1.1. Get the list of places"
   ]
  },
  {
   "cell_type": "code",
   "execution_count": 4,
   "id": "bb41fc20",
   "metadata": {},
   "outputs": [],
   "source": [
    "url2='https://www.atlasobscura.com/places?page='\n",
    "sort='&sort=likes_count'"
   ]
  },
  {
   "cell_type": "code",
   "execution_count": 12,
   "id": "6d360f23",
   "metadata": {},
   "outputs": [],
   "source": [
    "#DO NOT RUN THIS!\n",
    "# create a file to put all the urls\n",
    "f = open(\"urlpages.txt\", \"w\")\n",
    "for page in range(1, 401):\n",
    "    url = url2 +str(page) +sort\n",
    "    page_ = requests.get(url)\n",
    "    soup = BeautifulSoup(page_.content, features='lxml')\n",
    "    for a in soup.find_all('a', class_=\"content-card content-card-place\"): #the class where the url is\n",
    "        f.write(a.get('href')+'\\n')\n",
    "\n",
    "f.close()\n"
   ]
  },
  {
   "cell_type": "markdown",
   "id": "d916eabc",
   "metadata": {},
   "source": [
    "### 1.2. Crawl places"
   ]
  },
  {
   "cell_type": "code",
   "execution_count": 7,
   "id": "ad5c08f8",
   "metadata": {},
   "outputs": [],
   "source": [
    "def crawl():\n",
    "    pathAncestor = os.path.join(\"./\", \"htmlpages\") # Path\n",
    "    os.mkdir(pathAncestor) # create the folder in the path\n",
    "    \n",
    "    f = open(\"urlpages2.txt\", \"w\") #create txt file with urls\n",
    "    count=1 #counting html files\n",
    "    headpart='https://www.atlasobscura.com'\n",
    "    \n",
    "    for i in range(1, 401):\n",
    "        os.makedirs(os.path.join(pathAncestor, 'page ' + str(i))) #create folder of html files\n",
    "        \n",
    "        url = url2 +str(i) +sort\n",
    "        page_1 = requests.get(url)\n",
    "        soup = BeautifulSoup(page_1.content, features='lxml')\n",
    "        \n",
    "        for a in soup.find_all('a', class_=\"content-card content-card-place\"): #the class where the url is\n",
    "            save=a.get('href')\n",
    "            f.write(save +'\\n')\n",
    "            \n",
    "            subdirectory = pathAncestor + \"/page \" + str(i) # select the corresponding folder to insert the html article\n",
    "            article_name = \"/article_\"+str(count)+\".html\" \n",
    "            count+=1\n",
    "            complete_path = subdirectory + article_name # insert the new complete path where create the html file\n",
    "            \n",
    "            with open(complete_path, \"wb\") as ip_file:\n",
    "                link = headpart + save\n",
    "                try:\n",
    "                    page_2 = requests.get(link) # request the page\n",
    "                except:\n",
    "                    with open(\"failureRequest.txt\", \"a\") as err_file: # if we loose the request place, we put into a file the link doesn't download well, then we set the \"urlpages.txt\" with these link\n",
    "                        err_file.write(link)\n",
    "                        err_file.close()\n",
    "\n",
    "                soup = BeautifulSoup(page_2.text, features='lxml')\n",
    "\n",
    "                ip_file.write(soup.encode('utf-8'))\n",
    "                ip_file.close()\n",
    "\n",
    "    f.close()"
   ]
  },
  {
   "cell_type": "code",
   "execution_count": null,
   "id": "301389f7",
   "metadata": {},
   "outputs": [],
   "source": [
    "crawl()"
   ]
  },
  {
   "cell_type": "markdown",
   "id": "31923ba1",
   "metadata": {},
   "source": [
    "### 1.3 Parse downloaded pages\n"
   ]
  },
  {
   "cell_type": "code",
   "execution_count": null,
   "id": "6c10f7fe",
   "metadata": {},
   "outputs": [],
   "source": [
    "def parse(tsv_writer, article): \n",
    "    \n",
    "    with open(article, 'r', encoding=\"utf-8\") as out_file: # for each html article downloaded scrape it!\n",
    "        contents = out_file.read()\n",
    "        soup = BeautifulSoup(contents, features=\"lxml\") #parse the text\n",
    "        \n",
    "        try:\n",
    "            placeName = soup.find('span', itemprop=\"ratingValue\").text.strip()\n",
    "        except:\n",
    "            ratingValue = \" \""
   ]
  }
 ],
 "metadata": {
  "kernelspec": {
   "display_name": "Python 3 (ipykernel)",
   "language": "python",
   "name": "python3"
  },
  "language_info": {
   "codemirror_mode": {
    "name": "ipython",
    "version": 3
   },
   "file_extension": ".py",
   "mimetype": "text/x-python",
   "name": "python",
   "nbconvert_exporter": "python",
   "pygments_lexer": "ipython3",
   "version": "3.9.13"
  }
 },
 "nbformat": 4,
 "nbformat_minor": 5
}
