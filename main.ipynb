{
 "cells": [
  {
   "cell_type": "code",
   "execution_count": 77,
   "id": "efc88ab5",
   "metadata": {},
   "outputs": [],
   "source": [
    "from bs4 import BeautifulSoup\n",
    "import requests\n",
    "import lxml\n",
    "import os\n",
    "import csv\n",
    "import pandas as pd\n",
    "import plotly.express as px"
   ]
  },
  {
   "cell_type": "code",
   "execution_count": 7,
   "id": "bb41fc20",
   "metadata": {},
   "outputs": [],
   "source": [
    "url2='https://www.atlasobscura.com/places?page='\n",
    "sort='&sort=likes_count'"
   ]
  },
  {
   "cell_type": "markdown",
   "id": "d916eabc",
   "metadata": {},
   "source": [
    "### 1.1. Get the list of places And 1.2. Crawl places"
   ]
  },
  {
   "cell_type": "code",
   "execution_count": 10,
   "id": "ad5c08f8",
   "metadata": {},
   "outputs": [],
   "source": [
    "def crawl():\n",
    "    pathAncestor = os.path.join(\"./\", \"htmlpages\") # Path\n",
    "    #os.mkdir(pathAncestor) # create the folder in the path\n",
    "    \n",
    "    f = open(\"urlpages.txt\", \"w\") #create txt file with urls\n",
    "    count=1 #counting html files\n",
    "    headpart='https://www.atlasobscura.com'\n",
    "    \n",
    "    for i in range(116, 125):\n",
    "        os.makedirs(os.path.join(pathAncestor, 'page ' + str(i))) #create folder of html files\n",
    "        \n",
    "        url = url2 +str(i) +sort\n",
    "        page_1 = requests.get(url)\n",
    "        soup = BeautifulSoup(page_1.content, features='lxml')\n",
    "        \n",
    "        for a in soup.find_all('a', class_=\"content-card content-card-place\"): #the class where the url is\n",
    "            save=a.get('href')\n",
    "            f.write(save +'\\n')\n",
    "            \n",
    "            subdirectory = pathAncestor + \"/page \" + str(i) # select the corresponding folder to insert the html article\n",
    "            article_name = \"/article_\"+str(count)+\".html\" \n",
    "            count+=1\n",
    "            complete_path = subdirectory + article_name # insert the new complete path where create the html file\n",
    "            \n",
    "            with open(complete_path, \"wb\") as htmlFile:\n",
    "                link = headpart + save\n",
    "                try:\n",
    "                    page_2 = requests.get(link) # request the page\n",
    "                except:\n",
    "                    with open(\"failureRequest.txt\", \"a\") as error: # if we loose the request place, we put into a file the link doesn't download well, then we set the \"urlpages.txt\" with these link\n",
    "                        error.write(link)\n",
    "                        error.close()\n",
    "\n",
    "                soup = BeautifulSoup(page_2.text, features='lxml')\n",
    "\n",
    "                htmlFile.write(soup.encode('utf-8'))\n",
    "                htmlFile.close()\n",
    "\n",
    "    f.close()"
   ]
  },
  {
   "cell_type": "code",
   "execution_count": 11,
   "id": "301389f7",
   "metadata": {},
   "outputs": [],
   "source": [
    "crawl()"
   ]
  },
  {
   "cell_type": "markdown",
   "id": "31923ba1",
   "metadata": {},
   "source": [
    "### 1.3 Parse downloaded pages\n"
   ]
  },
  {
   "cell_type": "markdown",
   "id": "664b6a24",
   "metadata": {},
   "source": [
    "We create the tsv files for each html file"
   ]
  },
  {
   "cell_type": "code",
   "execution_count": 2,
   "id": "6c10f7fe",
   "metadata": {},
   "outputs": [],
   "source": [
    "def scrap(tsv_writer, article): \n",
    "    \n",
    "    with open(article, 'r', encoding=\"utf-8\") as out_file: # for each html article downloaded scrape it!\n",
    "        contents = out_file.read()\n",
    "        soup = BeautifulSoup(contents, features=\"lxml\") #parse the text\n",
    "        \n",
    "    try:\n",
    "        roi_header = soup.find_all(\"div\", {\"class\": \"DDPage__header-container grid-row\"})[0]\n",
    "        placeName = roi_header.find(\"h1\", {\"class\":\"DDPage__header-title\"}).text.strip()\n",
    "\n",
    "    except:\n",
    "        placeName = \" \"\n",
    "    try:\n",
    "        related_list = soup.find(\"div\",{\n",
    "            \"class\":\"card-grid CardRecircSection__card-grid js-inject-gtm-data-in-child-links\",\n",
    "            \"data-gtm-template\":\"DDP Footer Recirc Lists\"\n",
    "        })\n",
    "        \n",
    "        placeRelatedLists = [data.find(\"span\").text.strip() for data in related_list.find_all(\"h3\")]\n",
    "    except:\n",
    "        placeRelatedLists=''\n",
    "        \n",
    "    try:\n",
    "        related_places = soup.find(\"div\",{\n",
    "            \"class\":\"card-grid CardRecircSection__card-grid js-inject-gtm-data-in-child-links\",\n",
    "            \"data-gtm-template\":\"DDP Footer Recirc Related\"\n",
    "        })\n",
    "        placeRelatedPlaces = [data.find(\"span\").text.strip() for  data in related_places.find_all(\"h3\")]\n",
    "    except:\n",
    "        placeRelatedPlaces=''\n",
    "    try:\n",
    "        placeDesc = soup.find_all(\"div\", {\"class\": \"DDP__body-copy\"})[0]\n",
    "        placeDesc = \"\".join([p.text.strip() for p in placeDesc.find_all(\"p\")])\n",
    "    except:\n",
    "        placeDesc=''\n",
    "    try:\n",
    "        location = roi_header.find(\"div\", {\"class\":\"DDPage__header-place-location\"}).text.strip()\n",
    "    except:\n",
    "        location=''\n",
    "    try:\n",
    "        counters = roi_header.find_all(\"div\",{\"class\":\"title-md item-action-count\"})\n",
    "        numPeopleVisited=int(counters[0].text.strip())\n",
    "    except:\n",
    "        numPeopleVisited=''\n",
    "    try:\n",
    "        numPeopleWant = int(counters[1].text.strip())\n",
    "    except:\n",
    "        numPeopleWant=''\n",
    "    try:\n",
    "        placeShortDesc = roi_header.find(\"h3\", {\"class\":\"DDPage__header-dek\"}).text.strip()\n",
    "    except:\n",
    "        placeShortDesc=''\n",
    "    try:\n",
    "        sidebar = soup.find(\"div\", {\"class\":\"DDPageSiderail\"})\n",
    "        nearby_places = sidebar.find_all(\"div\",{\"class\":\"DDPageSiderailRecirc__item-title\"})\n",
    "        positions =  sidebar.find(\"div\",{\"class\":\"DDPageSiderail__coordinates js-copy-coordinates\"}).attrs[\"data-coordinates\"].split(\",\")\n",
    "        placeAlt= float(positions[0].strip())\n",
    "    except:\n",
    "        placeAlt=''\n",
    "    try:\n",
    "        placeLong = float(positions[1].strip())\n",
    "    except:\n",
    "        placeLong=''\n",
    "    try:\n",
    "        placeNearby = [place.text for place in nearby_places]\n",
    "    except:\n",
    "        placeNearby=''\n",
    "    try:\n",
    "        placeAddress = [x.text for x in soup.find_all('div', {'class': 'DDPage__header-place-location'})][0]\n",
    "        \n",
    "    except:\n",
    "        placeAddress=''\n",
    "        \n",
    "    try:\n",
    "        footer = soup.find(\"div\", {\"id\":\"ugc-module\"})\n",
    "        Editors = footer.find_all(\"a\",{\"class\":\"DDPContributorsList__contributor\"})\n",
    "        placePubDate = footer.find(\"div\",{\"class\":\"DDPContributor__name\"}).text\n",
    "        placePubDate = datetime.strptime(placePubDate,\"%B %d, %Y\")\n",
    "    except:\n",
    "        placePubDate=''\n",
    "    try:\n",
    "        #10-placeEditors, 11-placePubDate, 2-placeTags\n",
    "        placeEditors = [editors.find(\"span\").text if editors.find(\"span\") else editors.text for editors in Editors]\n",
    "    except:\n",
    "        placeEditors=''\n",
    "    try:\n",
    "        placeTags = [item.get_text(\"\").replace(\"\\n\",\"\") for item in soup.find_all(\"a\",{\"class\":\"itemTags__link js-item-tags-link\"})]\n",
    "        # set_trace(header=\"sidebar\")\n",
    "    except:   \n",
    "        placeTags=''\n",
    "    try:\n",
    "    placeURL=''\n",
    "\n",
    "    tsv_writer.writerow([placeName, placeTags, numPeopleVisited, numPeopleWant, \n",
    "                                placeDesc, placeShortDesc, placeNearby, placeAddress, placeAlt,\n",
    "                                placeLong, placeEditors, placePubDate,placeRelatedLists,placeRelatedPlaces,placeURL])\n"
   ]
  },
  {
   "cell_type": "code",
   "execution_count": 12,
   "id": "17d75403",
   "metadata": {},
   "outputs": [],
   "source": [
    "def create_tsv(input_path):\n",
    "    path = str(\"./\"+input_path)\n",
    "\n",
    "    filenames = os.listdir(path)\n",
    "    for i in range(1, 401):\n",
    "        filenames = os.listdir(path + '/page ' + str(i))\n",
    "\n",
    "        for file in filenames:\n",
    "            with open(path + '/page ' + str(i) + '/article_'+str(file.split(\"_\")[1].replace(\".html\", \"\"))+'.tsv', 'w', encoding=\"utf-8\", newline='') as out_file: # create for each html article its article_i.tsv \n",
    "                tsv_writer = csv.writer(out_file, delimiter='\\t')\n",
    "                tsv_writer.writerow(['placeName', 'placeTags', 'numPeopleVisited', 'numPeopleWant', \n",
    "                                'placeDesc', 'placeShortDesc', 'placeNearby', 'placeAddress', 'placeAlt',\n",
    "                                'placeLong', 'placeEditors', 'placePubDate','placeRelatedLists','placeRelatedPlaces','placeURL'])\n",
    "                scrap(tsv_writer, path + '/page ' + str(i) + \"/\" + file)"
   ]
  },
  {
   "cell_type": "code",
   "execution_count": 13,
   "id": "d6fd6a94",
   "metadata": {},
   "outputs": [],
   "source": [
    "create_tsv('htmlpages')"
   ]
  },
  {
   "cell_type": "markdown",
   "id": "3c45f999",
   "metadata": {},
   "source": [
    "We create the tsv file "
   ]
  },
  {
   "cell_type": "code",
   "execution_count": 17,
   "id": "7800df3f",
   "metadata": {},
   "outputs": [],
   "source": [
    "def dataFr():\n",
    "    path = \"./htmlpages\"\n",
    "    data = pd.DataFrame()\n",
    "\n",
    "    for num in range(1, 401):\n",
    "        filenames = os.listdir(path + '/page ' + str(num))\n",
    "        for file in filenames:\n",
    "            if file.endswith(\".tsv\"): # look for tsv files\n",
    "                with open(path + '/page ' + str(num) + '/article_'+str(file.split(\"_\")[1]), 'r', encoding=\"utf-8\", newline='') as file_tsv:\n",
    "                        df = pd.read_csv(file_tsv,sep = \"\\t\")\n",
    "                        data = pd.concat([data,df])\n",
    "                            \n",
    "    data.to_csv('/home/sophja/Documenti/ADM/HW3/data.tsv', sep='\\t', index=False)\n"
   ]
  },
  {
   "cell_type": "code",
   "execution_count": 18,
   "id": "c3c51f50",
   "metadata": {},
   "outputs": [],
   "source": [
    "dataFr() #we call the tsv function to crete our dataset"
   ]
  },
  {
   "cell_type": "markdown",
   "id": "9676b6b2",
   "metadata": {},
   "source": [
    "I forgot the url field"
   ]
  },
  {
   "cell_type": "code",
   "execution_count": 5,
   "id": "ab1fb537",
   "metadata": {},
   "outputs": [],
   "source": [
    "data=pd.read_csv('/home/sophja/Documenti/ADM/HW3/data.tsv', sep='\\t')"
   ]
  },
  {
   "cell_type": "code",
   "execution_count": 53,
   "id": "e05623d2",
   "metadata": {},
   "outputs": [],
   "source": [
    "with open ('/home/sophja/Documenti/ADM/HW3/urlpages.txt', 'r') as url_file:\n",
    "    for url in url_file:\n",
    "        url2=url.replace('\\n','').replace('/',' ').split(' ')[2].replace('-',' ')\n",
    "        data.loc[data['placeName'].str.lower() == url2, 'placeURL'] = url.replace('\\n','')\n",
    "        "
   ]
  },
  {
   "cell_type": "code",
   "execution_count": 55,
   "id": "65ace144",
   "metadata": {},
   "outputs": [
    {
     "data": {
      "text/html": [
       "<div>\n",
       "<style scoped>\n",
       "    .dataframe tbody tr th:only-of-type {\n",
       "        vertical-align: middle;\n",
       "    }\n",
       "\n",
       "    .dataframe tbody tr th {\n",
       "        vertical-align: top;\n",
       "    }\n",
       "\n",
       "    .dataframe thead th {\n",
       "        text-align: right;\n",
       "    }\n",
       "</style>\n",
       "<table border=\"1\" class=\"dataframe\">\n",
       "  <thead>\n",
       "    <tr style=\"text-align: right;\">\n",
       "      <th></th>\n",
       "      <th>Unnamed: 0</th>\n",
       "      <th>placeName</th>\n",
       "      <th>placeTags</th>\n",
       "      <th>numPeopleVisited</th>\n",
       "      <th>numPeopleWant</th>\n",
       "      <th>placeDesc</th>\n",
       "      <th>placeShortDesc</th>\n",
       "      <th>placeNearby</th>\n",
       "      <th>placeAddress</th>\n",
       "      <th>placeAlt</th>\n",
       "      <th>placeLong</th>\n",
       "      <th>placeEditors</th>\n",
       "      <th>placePubDate</th>\n",
       "      <th>placeRelatedLists</th>\n",
       "      <th>placeRelatedPlaces</th>\n",
       "      <th>placeURL</th>\n",
       "    </tr>\n",
       "  </thead>\n",
       "  <tbody>\n",
       "    <tr>\n",
       "      <th>0</th>\n",
       "      <td>0</td>\n",
       "      <td>Catacombes de Paris</td>\n",
       "      <td>['ossuaries', 'memento mori', 'catacombs and c...</td>\n",
       "      <td>4457.0</td>\n",
       "      <td>7059.0</td>\n",
       "      <td>In 2004, Parisian police were assigned to do a...</td>\n",
       "      <td>The vast, legendary catacombs hold secrets muc...</td>\n",
       "      <td>['Sculptures de Décure', 'Arago Medallions', \"...</td>\n",
       "      <td>Paris, France</td>\n",
       "      <td>48.8343</td>\n",
       "      <td>2.3322</td>\n",
       "      <td>['CPilgrim', 'ack sed', 'ramonrodz2212', 'ging...</td>\n",
       "      <td>NaN</td>\n",
       "      <td>['19 Catacombs Sure to Tingle Your Spine', \"Th...</td>\n",
       "      <td>['Ossario di San Martino', 'Leuk Charnel House...</td>\n",
       "      <td>/places/catacombes-de-paris</td>\n",
       "    </tr>\n",
       "    <tr>\n",
       "      <th>1</th>\n",
       "      <td>1</td>\n",
       "      <td>Dream House</td>\n",
       "      <td>['optical oddities', 'eccentric homes', 'music...</td>\n",
       "      <td>766.0</td>\n",
       "      <td>6007.0</td>\n",
       "      <td>When walking down Church Street in Tribeca, ke...</td>\n",
       "      <td>La Monte Young and Marian Zazeela's \"Dream Hou...</td>\n",
       "      <td>['Aretha Franklin Subway Tributes', 'Farm.One'...</td>\n",
       "      <td>Manhattan, New York</td>\n",
       "      <td>40.7185</td>\n",
       "      <td>-74.0048</td>\n",
       "      <td>['seanmattison', 'erosika', 'mbison', 'Gray', ...</td>\n",
       "      <td>NaN</td>\n",
       "      <td>['30 Unexpected Places to Have a Joyful Advent...</td>\n",
       "      <td>['Callejon de Hamel', 'Casa Neverlandia', 'Cas...</td>\n",
       "      <td>/places/dream-house</td>\n",
       "    </tr>\n",
       "    <tr>\n",
       "      <th>2</th>\n",
       "      <td>2</td>\n",
       "      <td>City Hall Station</td>\n",
       "      <td>['subways', 'subterranean', 'infrastructure', ...</td>\n",
       "      <td>1834.0</td>\n",
       "      <td>8608.0</td>\n",
       "      <td>The first New York City subway was built and o...</td>\n",
       "      <td>A beautiful and abandoned New York subway stat...</td>\n",
       "      <td>['African Burial Ground National Monument', 'T...</td>\n",
       "      <td>Manhattan, New York</td>\n",
       "      <td>40.7134</td>\n",
       "      <td>-74.0046</td>\n",
       "      <td>['Rebekah Otto', 'charding407', 'mbison', 'Ann...</td>\n",
       "      <td>NaN</td>\n",
       "      <td>['30 Unexpected Places to Have a Joyful Advent...</td>\n",
       "      <td>['Crystal Palace Subway', 'Moscow Metro Statio...</td>\n",
       "      <td>/places/city-hall-station</td>\n",
       "    </tr>\n",
       "    <tr>\n",
       "      <th>3</th>\n",
       "      <td>3</td>\n",
       "      <td>The Evolution Store</td>\n",
       "      <td>['wonder cabinets', 'purveyors of curiosities'...</td>\n",
       "      <td>2199.0</td>\n",
       "      <td>6953.0</td>\n",
       "      <td>Evolution stands out among the clothing stores...</td>\n",
       "      <td>A terrific purveyor of natural history objects...</td>\n",
       "      <td>[\"Merchant's House Museum\", 'The Brown Buildin...</td>\n",
       "      <td>Manhattan, New York</td>\n",
       "      <td>40.7281</td>\n",
       "      <td>-73.9948</td>\n",
       "      <td>['mbison', 'ramosju', 'Lauren Levesque', 'Unus...</td>\n",
       "      <td>NaN</td>\n",
       "      <td>[\"The World's Top 100 Wonders in 2018\", \"New Y...</td>\n",
       "      <td>['Kunstkammer Georg Laue', 'Ospedale delle Bam...</td>\n",
       "      <td>NaN</td>\n",
       "    </tr>\n",
       "    <tr>\n",
       "      <th>4</th>\n",
       "      <td>4</td>\n",
       "      <td>The Winchester Mystery House</td>\n",
       "      <td>['follies and grottoes', 'outsider architectur...</td>\n",
       "      <td>3724.0</td>\n",
       "      <td>5208.0</td>\n",
       "      <td>In 1886 an eccentric woman named Sarah Winches...</td>\n",
       "      <td>A peculiar mansion built by the troubled heir ...</td>\n",
       "      <td>['Santana Row Chess Plaza', 'Rosicrucian Park'...</td>\n",
       "      <td>San Jose, California</td>\n",
       "      <td>37.3189</td>\n",
       "      <td>-121.9506</td>\n",
       "      <td>['mbison', 'Avoiding Regret', 'Collin', 'marle...</td>\n",
       "      <td>NaN</td>\n",
       "      <td>['12 Places to See the Work of Women Architect...</td>\n",
       "      <td>['Casa de Piedra (Stone House)', 'Portmeirion ...</td>\n",
       "      <td>NaN</td>\n",
       "    </tr>\n",
       "  </tbody>\n",
       "</table>\n",
       "</div>"
      ],
      "text/plain": [
       "   Unnamed: 0                     placeName  \\\n",
       "0           0           Catacombes de Paris   \n",
       "1           1                   Dream House   \n",
       "2           2             City Hall Station   \n",
       "3           3           The Evolution Store   \n",
       "4           4  The Winchester Mystery House   \n",
       "\n",
       "                                           placeTags  numPeopleVisited  \\\n",
       "0  ['ossuaries', 'memento mori', 'catacombs and c...            4457.0   \n",
       "1  ['optical oddities', 'eccentric homes', 'music...             766.0   \n",
       "2  ['subways', 'subterranean', 'infrastructure', ...            1834.0   \n",
       "3  ['wonder cabinets', 'purveyors of curiosities'...            2199.0   \n",
       "4  ['follies and grottoes', 'outsider architectur...            3724.0   \n",
       "\n",
       "   numPeopleWant                                          placeDesc  \\\n",
       "0         7059.0  In 2004, Parisian police were assigned to do a...   \n",
       "1         6007.0  When walking down Church Street in Tribeca, ke...   \n",
       "2         8608.0  The first New York City subway was built and o...   \n",
       "3         6953.0  Evolution stands out among the clothing stores...   \n",
       "4         5208.0  In 1886 an eccentric woman named Sarah Winches...   \n",
       "\n",
       "                                      placeShortDesc  \\\n",
       "0  The vast, legendary catacombs hold secrets muc...   \n",
       "1  La Monte Young and Marian Zazeela's \"Dream Hou...   \n",
       "2  A beautiful and abandoned New York subway stat...   \n",
       "3  A terrific purveyor of natural history objects...   \n",
       "4  A peculiar mansion built by the troubled heir ...   \n",
       "\n",
       "                                         placeNearby          placeAddress  \\\n",
       "0  ['Sculptures de Décure', 'Arago Medallions', \"...         Paris, France   \n",
       "1  ['Aretha Franklin Subway Tributes', 'Farm.One'...   Manhattan, New York   \n",
       "2  ['African Burial Ground National Monument', 'T...   Manhattan, New York   \n",
       "3  [\"Merchant's House Museum\", 'The Brown Buildin...   Manhattan, New York   \n",
       "4  ['Santana Row Chess Plaza', 'Rosicrucian Park'...  San Jose, California   \n",
       "\n",
       "   placeAlt  placeLong                                       placeEditors  \\\n",
       "0   48.8343     2.3322  ['CPilgrim', 'ack sed', 'ramonrodz2212', 'ging...   \n",
       "1   40.7185   -74.0048  ['seanmattison', 'erosika', 'mbison', 'Gray', ...   \n",
       "2   40.7134   -74.0046  ['Rebekah Otto', 'charding407', 'mbison', 'Ann...   \n",
       "3   40.7281   -73.9948  ['mbison', 'ramosju', 'Lauren Levesque', 'Unus...   \n",
       "4   37.3189  -121.9506  ['mbison', 'Avoiding Regret', 'Collin', 'marle...   \n",
       "\n",
       "   placePubDate                                  placeRelatedLists  \\\n",
       "0           NaN  ['19 Catacombs Sure to Tingle Your Spine', \"Th...   \n",
       "1           NaN  ['30 Unexpected Places to Have a Joyful Advent...   \n",
       "2           NaN  ['30 Unexpected Places to Have a Joyful Advent...   \n",
       "3           NaN  [\"The World's Top 100 Wonders in 2018\", \"New Y...   \n",
       "4           NaN  ['12 Places to See the Work of Women Architect...   \n",
       "\n",
       "                                  placeRelatedPlaces  \\\n",
       "0  ['Ossario di San Martino', 'Leuk Charnel House...   \n",
       "1  ['Callejon de Hamel', 'Casa Neverlandia', 'Cas...   \n",
       "2  ['Crystal Palace Subway', 'Moscow Metro Statio...   \n",
       "3  ['Kunstkammer Georg Laue', 'Ospedale delle Bam...   \n",
       "4  ['Casa de Piedra (Stone House)', 'Portmeirion ...   \n",
       "\n",
       "                      placeURL  \n",
       "0  /places/catacombes-de-paris  \n",
       "1          /places/dream-house  \n",
       "2    /places/city-hall-station  \n",
       "3                          NaN  \n",
       "4                          NaN  "
      ]
     },
     "execution_count": 55,
     "metadata": {},
     "output_type": "execute_result"
    }
   ],
   "source": [
    "data.head()"
   ]
  },
  {
   "cell_type": "code",
   "execution_count": 54,
   "id": "75300a6d",
   "metadata": {
    "scrolled": true
   },
   "outputs": [
    {
     "name": "stdout",
     "output_type": "stream",
     "text": [
      "<class 'pandas.core.frame.DataFrame'>\n",
      "RangeIndex: 7198 entries, 0 to 7197\n",
      "Data columns (total 16 columns):\n",
      " #   Column              Non-Null Count  Dtype  \n",
      "---  ------              --------------  -----  \n",
      " 0   Unnamed: 0          7198 non-null   int64  \n",
      " 1   placeName           7198 non-null   object \n",
      " 2   placeTags           7198 non-null   object \n",
      " 3   numPeopleVisited    7193 non-null   float64\n",
      " 4   numPeopleWant       7193 non-null   float64\n",
      " 5   placeDesc           7193 non-null   object \n",
      " 6   placeShortDesc      7193 non-null   object \n",
      " 7   placeNearby         7193 non-null   object \n",
      " 8   placeAddress        7192 non-null   object \n",
      " 9   placeAlt            7193 non-null   float64\n",
      " 10  placeLong           7193 non-null   float64\n",
      " 11  placeEditors        7193 non-null   object \n",
      " 12  placePubDate        0 non-null      float64\n",
      " 13  placeRelatedLists   2759 non-null   object \n",
      " 14  placeRelatedPlaces  7159 non-null   object \n",
      " 15  placeURL            4118 non-null   object \n",
      "dtypes: float64(5), int64(1), object(10)\n",
      "memory usage: 899.9+ KB\n"
     ]
    }
   ],
   "source": [
    "data.info()\n"
   ]
  },
  {
   "cell_type": "markdown",
   "id": "dfaf0852",
   "metadata": {},
   "source": [
    "### 4. Visualizing the most relevant places"
   ]
  },
  {
   "cell_type": "markdown",
   "id": "9bd24f44",
   "metadata": {},
   "source": [
    "We use mapbox to visualize the places on a map"
   ]
  },
  {
   "cell_type": "code",
   "execution_count": 78,
   "id": "b2167745",
   "metadata": {},
   "outputs": [],
   "source": [
    "def maps(data):  \n",
    "\n",
    "    fig = px.scatter_mapbox(data_prova, lat=\"placeAlt\", lon=\"placeLong\", hover_name=\"placeName\", hover_data=[\"numPeopleWant\", \"numPeopleVisited\", \"placeAddress\"],\n",
    "                        color_discrete_sequence=[\"fuchsia\"], zoom=3, height=300)\n",
    "    fig.update_layout(mapbox_style=\"open-street-map\")\n",
    "    fig.update_layout(margin={\"r\":0,\"t\":0,\"l\":0,\"b\":0})\n",
    "    fig.show()"
   ]
  },
  {
   "cell_type": "code",
   "execution_count": 79,
   "id": "c75cea64",
   "metadata": {},
   "outputs": [
    {
     "data": {
      "application/vnd.plotly.v1+json": {
       "config": {
        "plotlyServerURL": "https://plot.ly"
       },
       "data": [
        {
         "customdata": [
          [
           7059,
           4457,
           "Paris, France"
          ],
          [
           6007,
           766,
           "Manhattan, New York"
          ],
          [
           8608,
           1834,
           "Manhattan, New York"
          ],
          [
           6953,
           2199,
           "Manhattan, New York"
          ],
          [
           5208,
           3724,
           "San Jose, California"
          ],
          [
           5430,
           453,
           "Marble Canyon, Arizona"
          ],
          [
           5713,
           536,
           "Isle of Staffa, Scotland"
          ],
          [
           8213,
           2626,
           "London, England"
          ],
          [
           5815,
           857,
           "London, England"
          ],
          [
           5819,
           3616,
           "Los Angeles, California"
          ]
         ],
         "hovertemplate": "<b>%{hovertext}</b><br><br>placeAlt=%{lat}<br>placeLong=%{lon}<br>numPeopleWant=%{customdata[0]}<br>numPeopleVisited=%{customdata[1]}<br>placeAddress=%{customdata[2]}<extra></extra>",
         "hovertext": [
          "Catacombes de Paris",
          "Dream House",
          "City Hall Station",
          "The Evolution Store",
          "The Winchester Mystery House",
          "The Wave",
          "Fingal's Cave",
          "Highgate Cemetery",
          "God's Own Junkyard",
          "The Last Bookstore"
         ],
         "lat": [
          48.8343,
          40.7185,
          40.7134,
          40.7281,
          37.3189,
          36.9961,
          56.4314,
          51.5675,
          51.5839,
          34.0477
         ],
         "legendgroup": "",
         "lon": [
          2.3322,
          -74.0048,
          -74.0046,
          -73.9948,
          -121.9506,
          -112.0061,
          -6.3413,
          -0.1483,
          -0.0083,
          -118.2494
         ],
         "marker": {
          "color": "fuchsia"
         },
         "mode": "markers",
         "name": "",
         "showlegend": false,
         "subplot": "mapbox",
         "type": "scattermapbox"
        }
       ],
       "layout": {
        "height": 300,
        "legend": {
         "tracegroupgap": 0
        },
        "mapbox": {
         "center": {
          "lat": 43.893980000000006,
          "lon": -57.837599999999995
         },
         "domain": {
          "x": [
           0,
           1
          ],
          "y": [
           0,
           1
          ]
         },
         "style": "open-street-map",
         "zoom": 3
        },
        "margin": {
         "b": 0,
         "l": 0,
         "r": 0,
         "t": 0
        },
        "template": {
         "data": {
          "bar": [
           {
            "error_x": {
             "color": "#2a3f5f"
            },
            "error_y": {
             "color": "#2a3f5f"
            },
            "marker": {
             "line": {
              "color": "#E5ECF6",
              "width": 0.5
             },
             "pattern": {
              "fillmode": "overlay",
              "size": 10,
              "solidity": 0.2
             }
            },
            "type": "bar"
           }
          ],
          "barpolar": [
           {
            "marker": {
             "line": {
              "color": "#E5ECF6",
              "width": 0.5
             },
             "pattern": {
              "fillmode": "overlay",
              "size": 10,
              "solidity": 0.2
             }
            },
            "type": "barpolar"
           }
          ],
          "carpet": [
           {
            "aaxis": {
             "endlinecolor": "#2a3f5f",
             "gridcolor": "white",
             "linecolor": "white",
             "minorgridcolor": "white",
             "startlinecolor": "#2a3f5f"
            },
            "baxis": {
             "endlinecolor": "#2a3f5f",
             "gridcolor": "white",
             "linecolor": "white",
             "minorgridcolor": "white",
             "startlinecolor": "#2a3f5f"
            },
            "type": "carpet"
           }
          ],
          "choropleth": [
           {
            "colorbar": {
             "outlinewidth": 0,
             "ticks": ""
            },
            "type": "choropleth"
           }
          ],
          "contour": [
           {
            "colorbar": {
             "outlinewidth": 0,
             "ticks": ""
            },
            "colorscale": [
             [
              0,
              "#0d0887"
             ],
             [
              0.1111111111111111,
              "#46039f"
             ],
             [
              0.2222222222222222,
              "#7201a8"
             ],
             [
              0.3333333333333333,
              "#9c179e"
             ],
             [
              0.4444444444444444,
              "#bd3786"
             ],
             [
              0.5555555555555556,
              "#d8576b"
             ],
             [
              0.6666666666666666,
              "#ed7953"
             ],
             [
              0.7777777777777778,
              "#fb9f3a"
             ],
             [
              0.8888888888888888,
              "#fdca26"
             ],
             [
              1,
              "#f0f921"
             ]
            ],
            "type": "contour"
           }
          ],
          "contourcarpet": [
           {
            "colorbar": {
             "outlinewidth": 0,
             "ticks": ""
            },
            "type": "contourcarpet"
           }
          ],
          "heatmap": [
           {
            "colorbar": {
             "outlinewidth": 0,
             "ticks": ""
            },
            "colorscale": [
             [
              0,
              "#0d0887"
             ],
             [
              0.1111111111111111,
              "#46039f"
             ],
             [
              0.2222222222222222,
              "#7201a8"
             ],
             [
              0.3333333333333333,
              "#9c179e"
             ],
             [
              0.4444444444444444,
              "#bd3786"
             ],
             [
              0.5555555555555556,
              "#d8576b"
             ],
             [
              0.6666666666666666,
              "#ed7953"
             ],
             [
              0.7777777777777778,
              "#fb9f3a"
             ],
             [
              0.8888888888888888,
              "#fdca26"
             ],
             [
              1,
              "#f0f921"
             ]
            ],
            "type": "heatmap"
           }
          ],
          "heatmapgl": [
           {
            "colorbar": {
             "outlinewidth": 0,
             "ticks": ""
            },
            "colorscale": [
             [
              0,
              "#0d0887"
             ],
             [
              0.1111111111111111,
              "#46039f"
             ],
             [
              0.2222222222222222,
              "#7201a8"
             ],
             [
              0.3333333333333333,
              "#9c179e"
             ],
             [
              0.4444444444444444,
              "#bd3786"
             ],
             [
              0.5555555555555556,
              "#d8576b"
             ],
             [
              0.6666666666666666,
              "#ed7953"
             ],
             [
              0.7777777777777778,
              "#fb9f3a"
             ],
             [
              0.8888888888888888,
              "#fdca26"
             ],
             [
              1,
              "#f0f921"
             ]
            ],
            "type": "heatmapgl"
           }
          ],
          "histogram": [
           {
            "marker": {
             "pattern": {
              "fillmode": "overlay",
              "size": 10,
              "solidity": 0.2
             }
            },
            "type": "histogram"
           }
          ],
          "histogram2d": [
           {
            "colorbar": {
             "outlinewidth": 0,
             "ticks": ""
            },
            "colorscale": [
             [
              0,
              "#0d0887"
             ],
             [
              0.1111111111111111,
              "#46039f"
             ],
             [
              0.2222222222222222,
              "#7201a8"
             ],
             [
              0.3333333333333333,
              "#9c179e"
             ],
             [
              0.4444444444444444,
              "#bd3786"
             ],
             [
              0.5555555555555556,
              "#d8576b"
             ],
             [
              0.6666666666666666,
              "#ed7953"
             ],
             [
              0.7777777777777778,
              "#fb9f3a"
             ],
             [
              0.8888888888888888,
              "#fdca26"
             ],
             [
              1,
              "#f0f921"
             ]
            ],
            "type": "histogram2d"
           }
          ],
          "histogram2dcontour": [
           {
            "colorbar": {
             "outlinewidth": 0,
             "ticks": ""
            },
            "colorscale": [
             [
              0,
              "#0d0887"
             ],
             [
              0.1111111111111111,
              "#46039f"
             ],
             [
              0.2222222222222222,
              "#7201a8"
             ],
             [
              0.3333333333333333,
              "#9c179e"
             ],
             [
              0.4444444444444444,
              "#bd3786"
             ],
             [
              0.5555555555555556,
              "#d8576b"
             ],
             [
              0.6666666666666666,
              "#ed7953"
             ],
             [
              0.7777777777777778,
              "#fb9f3a"
             ],
             [
              0.8888888888888888,
              "#fdca26"
             ],
             [
              1,
              "#f0f921"
             ]
            ],
            "type": "histogram2dcontour"
           }
          ],
          "mesh3d": [
           {
            "colorbar": {
             "outlinewidth": 0,
             "ticks": ""
            },
            "type": "mesh3d"
           }
          ],
          "parcoords": [
           {
            "line": {
             "colorbar": {
              "outlinewidth": 0,
              "ticks": ""
             }
            },
            "type": "parcoords"
           }
          ],
          "pie": [
           {
            "automargin": true,
            "type": "pie"
           }
          ],
          "scatter": [
           {
            "fillpattern": {
             "fillmode": "overlay",
             "size": 10,
             "solidity": 0.2
            },
            "type": "scatter"
           }
          ],
          "scatter3d": [
           {
            "line": {
             "colorbar": {
              "outlinewidth": 0,
              "ticks": ""
             }
            },
            "marker": {
             "colorbar": {
              "outlinewidth": 0,
              "ticks": ""
             }
            },
            "type": "scatter3d"
           }
          ],
          "scattercarpet": [
           {
            "marker": {
             "colorbar": {
              "outlinewidth": 0,
              "ticks": ""
             }
            },
            "type": "scattercarpet"
           }
          ],
          "scattergeo": [
           {
            "marker": {
             "colorbar": {
              "outlinewidth": 0,
              "ticks": ""
             }
            },
            "type": "scattergeo"
           }
          ],
          "scattergl": [
           {
            "marker": {
             "colorbar": {
              "outlinewidth": 0,
              "ticks": ""
             }
            },
            "type": "scattergl"
           }
          ],
          "scattermapbox": [
           {
            "marker": {
             "colorbar": {
              "outlinewidth": 0,
              "ticks": ""
             }
            },
            "type": "scattermapbox"
           }
          ],
          "scatterpolar": [
           {
            "marker": {
             "colorbar": {
              "outlinewidth": 0,
              "ticks": ""
             }
            },
            "type": "scatterpolar"
           }
          ],
          "scatterpolargl": [
           {
            "marker": {
             "colorbar": {
              "outlinewidth": 0,
              "ticks": ""
             }
            },
            "type": "scatterpolargl"
           }
          ],
          "scatterternary": [
           {
            "marker": {
             "colorbar": {
              "outlinewidth": 0,
              "ticks": ""
             }
            },
            "type": "scatterternary"
           }
          ],
          "surface": [
           {
            "colorbar": {
             "outlinewidth": 0,
             "ticks": ""
            },
            "colorscale": [
             [
              0,
              "#0d0887"
             ],
             [
              0.1111111111111111,
              "#46039f"
             ],
             [
              0.2222222222222222,
              "#7201a8"
             ],
             [
              0.3333333333333333,
              "#9c179e"
             ],
             [
              0.4444444444444444,
              "#bd3786"
             ],
             [
              0.5555555555555556,
              "#d8576b"
             ],
             [
              0.6666666666666666,
              "#ed7953"
             ],
             [
              0.7777777777777778,
              "#fb9f3a"
             ],
             [
              0.8888888888888888,
              "#fdca26"
             ],
             [
              1,
              "#f0f921"
             ]
            ],
            "type": "surface"
           }
          ],
          "table": [
           {
            "cells": {
             "fill": {
              "color": "#EBF0F8"
             },
             "line": {
              "color": "white"
             }
            },
            "header": {
             "fill": {
              "color": "#C8D4E3"
             },
             "line": {
              "color": "white"
             }
            },
            "type": "table"
           }
          ]
         },
         "layout": {
          "annotationdefaults": {
           "arrowcolor": "#2a3f5f",
           "arrowhead": 0,
           "arrowwidth": 1
          },
          "autotypenumbers": "strict",
          "coloraxis": {
           "colorbar": {
            "outlinewidth": 0,
            "ticks": ""
           }
          },
          "colorscale": {
           "diverging": [
            [
             0,
             "#8e0152"
            ],
            [
             0.1,
             "#c51b7d"
            ],
            [
             0.2,
             "#de77ae"
            ],
            [
             0.3,
             "#f1b6da"
            ],
            [
             0.4,
             "#fde0ef"
            ],
            [
             0.5,
             "#f7f7f7"
            ],
            [
             0.6,
             "#e6f5d0"
            ],
            [
             0.7,
             "#b8e186"
            ],
            [
             0.8,
             "#7fbc41"
            ],
            [
             0.9,
             "#4d9221"
            ],
            [
             1,
             "#276419"
            ]
           ],
           "sequential": [
            [
             0,
             "#0d0887"
            ],
            [
             0.1111111111111111,
             "#46039f"
            ],
            [
             0.2222222222222222,
             "#7201a8"
            ],
            [
             0.3333333333333333,
             "#9c179e"
            ],
            [
             0.4444444444444444,
             "#bd3786"
            ],
            [
             0.5555555555555556,
             "#d8576b"
            ],
            [
             0.6666666666666666,
             "#ed7953"
            ],
            [
             0.7777777777777778,
             "#fb9f3a"
            ],
            [
             0.8888888888888888,
             "#fdca26"
            ],
            [
             1,
             "#f0f921"
            ]
           ],
           "sequentialminus": [
            [
             0,
             "#0d0887"
            ],
            [
             0.1111111111111111,
             "#46039f"
            ],
            [
             0.2222222222222222,
             "#7201a8"
            ],
            [
             0.3333333333333333,
             "#9c179e"
            ],
            [
             0.4444444444444444,
             "#bd3786"
            ],
            [
             0.5555555555555556,
             "#d8576b"
            ],
            [
             0.6666666666666666,
             "#ed7953"
            ],
            [
             0.7777777777777778,
             "#fb9f3a"
            ],
            [
             0.8888888888888888,
             "#fdca26"
            ],
            [
             1,
             "#f0f921"
            ]
           ]
          },
          "colorway": [
           "#636efa",
           "#EF553B",
           "#00cc96",
           "#ab63fa",
           "#FFA15A",
           "#19d3f3",
           "#FF6692",
           "#B6E880",
           "#FF97FF",
           "#FECB52"
          ],
          "font": {
           "color": "#2a3f5f"
          },
          "geo": {
           "bgcolor": "white",
           "lakecolor": "white",
           "landcolor": "#E5ECF6",
           "showlakes": true,
           "showland": true,
           "subunitcolor": "white"
          },
          "hoverlabel": {
           "align": "left"
          },
          "hovermode": "closest",
          "mapbox": {
           "style": "light"
          },
          "paper_bgcolor": "white",
          "plot_bgcolor": "#E5ECF6",
          "polar": {
           "angularaxis": {
            "gridcolor": "white",
            "linecolor": "white",
            "ticks": ""
           },
           "bgcolor": "#E5ECF6",
           "radialaxis": {
            "gridcolor": "white",
            "linecolor": "white",
            "ticks": ""
           }
          },
          "scene": {
           "xaxis": {
            "backgroundcolor": "#E5ECF6",
            "gridcolor": "white",
            "gridwidth": 2,
            "linecolor": "white",
            "showbackground": true,
            "ticks": "",
            "zerolinecolor": "white"
           },
           "yaxis": {
            "backgroundcolor": "#E5ECF6",
            "gridcolor": "white",
            "gridwidth": 2,
            "linecolor": "white",
            "showbackground": true,
            "ticks": "",
            "zerolinecolor": "white"
           },
           "zaxis": {
            "backgroundcolor": "#E5ECF6",
            "gridcolor": "white",
            "gridwidth": 2,
            "linecolor": "white",
            "showbackground": true,
            "ticks": "",
            "zerolinecolor": "white"
           }
          },
          "shapedefaults": {
           "line": {
            "color": "#2a3f5f"
           }
          },
          "ternary": {
           "aaxis": {
            "gridcolor": "white",
            "linecolor": "white",
            "ticks": ""
           },
           "baxis": {
            "gridcolor": "white",
            "linecolor": "white",
            "ticks": ""
           },
           "bgcolor": "#E5ECF6",
           "caxis": {
            "gridcolor": "white",
            "linecolor": "white",
            "ticks": ""
           }
          },
          "title": {
           "x": 0.05
          },
          "xaxis": {
           "automargin": true,
           "gridcolor": "white",
           "linecolor": "white",
           "ticks": "",
           "title": {
            "standoff": 15
           },
           "zerolinecolor": "white",
           "zerolinewidth": 2
          },
          "yaxis": {
           "automargin": true,
           "gridcolor": "white",
           "linecolor": "white",
           "ticks": "",
           "title": {
            "standoff": 15
           },
           "zerolinecolor": "white",
           "zerolinewidth": 2
          }
         }
        }
       }
      },
      "text/html": [
       "<div>                            <div id=\"edf4c1b8-2709-4ce7-a32c-9dac0324cd38\" class=\"plotly-graph-div\" style=\"height:300px; width:100%;\"></div>            <script type=\"text/javascript\">                require([\"plotly\"], function(Plotly) {                    window.PLOTLYENV=window.PLOTLYENV || {};                                    if (document.getElementById(\"edf4c1b8-2709-4ce7-a32c-9dac0324cd38\")) {                    Plotly.newPlot(                        \"edf4c1b8-2709-4ce7-a32c-9dac0324cd38\",                        [{\"customdata\":[[7059.0,4457.0,\"Paris, France\"],[6007.0,766.0,\"Manhattan, New York\"],[8608.0,1834.0,\"Manhattan, New York\"],[6953.0,2199.0,\"Manhattan, New York\"],[5208.0,3724.0,\"San Jose, California\"],[5430.0,453.0,\"Marble Canyon, Arizona\"],[5713.0,536.0,\"Isle of Staffa, Scotland\"],[8213.0,2626.0,\"London, England\"],[5815.0,857.0,\"London, England\"],[5819.0,3616.0,\"Los Angeles, California\"]],\"hovertemplate\":\"<b>%{hovertext}</b><br><br>placeAlt=%{lat}<br>placeLong=%{lon}<br>numPeopleWant=%{customdata[0]}<br>numPeopleVisited=%{customdata[1]}<br>placeAddress=%{customdata[2]}<extra></extra>\",\"hovertext\":[\"Catacombes de Paris\",\"Dream House\",\"City Hall Station\",\"The Evolution Store\",\"The Winchester Mystery House\",\"The Wave\",\"Fingal's Cave\",\"Highgate Cemetery\",\"God's Own Junkyard\",\"The Last Bookstore\"],\"lat\":[48.8343,40.7185,40.7134,40.7281,37.3189,36.9961,56.4314,51.5675,51.5839,34.0477],\"legendgroup\":\"\",\"lon\":[2.3322,-74.0048,-74.0046,-73.9948,-121.9506,-112.0061,-6.3413,-0.1483,-0.0083,-118.2494],\"marker\":{\"color\":\"fuchsia\"},\"mode\":\"markers\",\"name\":\"\",\"showlegend\":false,\"subplot\":\"mapbox\",\"type\":\"scattermapbox\"}],                        {\"template\":{\"data\":{\"histogram2dcontour\":[{\"type\":\"histogram2dcontour\",\"colorbar\":{\"outlinewidth\":0,\"ticks\":\"\"},\"colorscale\":[[0.0,\"#0d0887\"],[0.1111111111111111,\"#46039f\"],[0.2222222222222222,\"#7201a8\"],[0.3333333333333333,\"#9c179e\"],[0.4444444444444444,\"#bd3786\"],[0.5555555555555556,\"#d8576b\"],[0.6666666666666666,\"#ed7953\"],[0.7777777777777778,\"#fb9f3a\"],[0.8888888888888888,\"#fdca26\"],[1.0,\"#f0f921\"]]}],\"choropleth\":[{\"type\":\"choropleth\",\"colorbar\":{\"outlinewidth\":0,\"ticks\":\"\"}}],\"histogram2d\":[{\"type\":\"histogram2d\",\"colorbar\":{\"outlinewidth\":0,\"ticks\":\"\"},\"colorscale\":[[0.0,\"#0d0887\"],[0.1111111111111111,\"#46039f\"],[0.2222222222222222,\"#7201a8\"],[0.3333333333333333,\"#9c179e\"],[0.4444444444444444,\"#bd3786\"],[0.5555555555555556,\"#d8576b\"],[0.6666666666666666,\"#ed7953\"],[0.7777777777777778,\"#fb9f3a\"],[0.8888888888888888,\"#fdca26\"],[1.0,\"#f0f921\"]]}],\"heatmap\":[{\"type\":\"heatmap\",\"colorbar\":{\"outlinewidth\":0,\"ticks\":\"\"},\"colorscale\":[[0.0,\"#0d0887\"],[0.1111111111111111,\"#46039f\"],[0.2222222222222222,\"#7201a8\"],[0.3333333333333333,\"#9c179e\"],[0.4444444444444444,\"#bd3786\"],[0.5555555555555556,\"#d8576b\"],[0.6666666666666666,\"#ed7953\"],[0.7777777777777778,\"#fb9f3a\"],[0.8888888888888888,\"#fdca26\"],[1.0,\"#f0f921\"]]}],\"heatmapgl\":[{\"type\":\"heatmapgl\",\"colorbar\":{\"outlinewidth\":0,\"ticks\":\"\"},\"colorscale\":[[0.0,\"#0d0887\"],[0.1111111111111111,\"#46039f\"],[0.2222222222222222,\"#7201a8\"],[0.3333333333333333,\"#9c179e\"],[0.4444444444444444,\"#bd3786\"],[0.5555555555555556,\"#d8576b\"],[0.6666666666666666,\"#ed7953\"],[0.7777777777777778,\"#fb9f3a\"],[0.8888888888888888,\"#fdca26\"],[1.0,\"#f0f921\"]]}],\"contourcarpet\":[{\"type\":\"contourcarpet\",\"colorbar\":{\"outlinewidth\":0,\"ticks\":\"\"}}],\"contour\":[{\"type\":\"contour\",\"colorbar\":{\"outlinewidth\":0,\"ticks\":\"\"},\"colorscale\":[[0.0,\"#0d0887\"],[0.1111111111111111,\"#46039f\"],[0.2222222222222222,\"#7201a8\"],[0.3333333333333333,\"#9c179e\"],[0.4444444444444444,\"#bd3786\"],[0.5555555555555556,\"#d8576b\"],[0.6666666666666666,\"#ed7953\"],[0.7777777777777778,\"#fb9f3a\"],[0.8888888888888888,\"#fdca26\"],[1.0,\"#f0f921\"]]}],\"surface\":[{\"type\":\"surface\",\"colorbar\":{\"outlinewidth\":0,\"ticks\":\"\"},\"colorscale\":[[0.0,\"#0d0887\"],[0.1111111111111111,\"#46039f\"],[0.2222222222222222,\"#7201a8\"],[0.3333333333333333,\"#9c179e\"],[0.4444444444444444,\"#bd3786\"],[0.5555555555555556,\"#d8576b\"],[0.6666666666666666,\"#ed7953\"],[0.7777777777777778,\"#fb9f3a\"],[0.8888888888888888,\"#fdca26\"],[1.0,\"#f0f921\"]]}],\"mesh3d\":[{\"type\":\"mesh3d\",\"colorbar\":{\"outlinewidth\":0,\"ticks\":\"\"}}],\"scatter\":[{\"fillpattern\":{\"fillmode\":\"overlay\",\"size\":10,\"solidity\":0.2},\"type\":\"scatter\"}],\"parcoords\":[{\"type\":\"parcoords\",\"line\":{\"colorbar\":{\"outlinewidth\":0,\"ticks\":\"\"}}}],\"scatterpolargl\":[{\"type\":\"scatterpolargl\",\"marker\":{\"colorbar\":{\"outlinewidth\":0,\"ticks\":\"\"}}}],\"bar\":[{\"error_x\":{\"color\":\"#2a3f5f\"},\"error_y\":{\"color\":\"#2a3f5f\"},\"marker\":{\"line\":{\"color\":\"#E5ECF6\",\"width\":0.5},\"pattern\":{\"fillmode\":\"overlay\",\"size\":10,\"solidity\":0.2}},\"type\":\"bar\"}],\"scattergeo\":[{\"type\":\"scattergeo\",\"marker\":{\"colorbar\":{\"outlinewidth\":0,\"ticks\":\"\"}}}],\"scatterpolar\":[{\"type\":\"scatterpolar\",\"marker\":{\"colorbar\":{\"outlinewidth\":0,\"ticks\":\"\"}}}],\"histogram\":[{\"marker\":{\"pattern\":{\"fillmode\":\"overlay\",\"size\":10,\"solidity\":0.2}},\"type\":\"histogram\"}],\"scattergl\":[{\"type\":\"scattergl\",\"marker\":{\"colorbar\":{\"outlinewidth\":0,\"ticks\":\"\"}}}],\"scatter3d\":[{\"type\":\"scatter3d\",\"line\":{\"colorbar\":{\"outlinewidth\":0,\"ticks\":\"\"}},\"marker\":{\"colorbar\":{\"outlinewidth\":0,\"ticks\":\"\"}}}],\"scattermapbox\":[{\"type\":\"scattermapbox\",\"marker\":{\"colorbar\":{\"outlinewidth\":0,\"ticks\":\"\"}}}],\"scatterternary\":[{\"type\":\"scatterternary\",\"marker\":{\"colorbar\":{\"outlinewidth\":0,\"ticks\":\"\"}}}],\"scattercarpet\":[{\"type\":\"scattercarpet\",\"marker\":{\"colorbar\":{\"outlinewidth\":0,\"ticks\":\"\"}}}],\"carpet\":[{\"aaxis\":{\"endlinecolor\":\"#2a3f5f\",\"gridcolor\":\"white\",\"linecolor\":\"white\",\"minorgridcolor\":\"white\",\"startlinecolor\":\"#2a3f5f\"},\"baxis\":{\"endlinecolor\":\"#2a3f5f\",\"gridcolor\":\"white\",\"linecolor\":\"white\",\"minorgridcolor\":\"white\",\"startlinecolor\":\"#2a3f5f\"},\"type\":\"carpet\"}],\"table\":[{\"cells\":{\"fill\":{\"color\":\"#EBF0F8\"},\"line\":{\"color\":\"white\"}},\"header\":{\"fill\":{\"color\":\"#C8D4E3\"},\"line\":{\"color\":\"white\"}},\"type\":\"table\"}],\"barpolar\":[{\"marker\":{\"line\":{\"color\":\"#E5ECF6\",\"width\":0.5},\"pattern\":{\"fillmode\":\"overlay\",\"size\":10,\"solidity\":0.2}},\"type\":\"barpolar\"}],\"pie\":[{\"automargin\":true,\"type\":\"pie\"}]},\"layout\":{\"autotypenumbers\":\"strict\",\"colorway\":[\"#636efa\",\"#EF553B\",\"#00cc96\",\"#ab63fa\",\"#FFA15A\",\"#19d3f3\",\"#FF6692\",\"#B6E880\",\"#FF97FF\",\"#FECB52\"],\"font\":{\"color\":\"#2a3f5f\"},\"hovermode\":\"closest\",\"hoverlabel\":{\"align\":\"left\"},\"paper_bgcolor\":\"white\",\"plot_bgcolor\":\"#E5ECF6\",\"polar\":{\"bgcolor\":\"#E5ECF6\",\"angularaxis\":{\"gridcolor\":\"white\",\"linecolor\":\"white\",\"ticks\":\"\"},\"radialaxis\":{\"gridcolor\":\"white\",\"linecolor\":\"white\",\"ticks\":\"\"}},\"ternary\":{\"bgcolor\":\"#E5ECF6\",\"aaxis\":{\"gridcolor\":\"white\",\"linecolor\":\"white\",\"ticks\":\"\"},\"baxis\":{\"gridcolor\":\"white\",\"linecolor\":\"white\",\"ticks\":\"\"},\"caxis\":{\"gridcolor\":\"white\",\"linecolor\":\"white\",\"ticks\":\"\"}},\"coloraxis\":{\"colorbar\":{\"outlinewidth\":0,\"ticks\":\"\"}},\"colorscale\":{\"sequential\":[[0.0,\"#0d0887\"],[0.1111111111111111,\"#46039f\"],[0.2222222222222222,\"#7201a8\"],[0.3333333333333333,\"#9c179e\"],[0.4444444444444444,\"#bd3786\"],[0.5555555555555556,\"#d8576b\"],[0.6666666666666666,\"#ed7953\"],[0.7777777777777778,\"#fb9f3a\"],[0.8888888888888888,\"#fdca26\"],[1.0,\"#f0f921\"]],\"sequentialminus\":[[0.0,\"#0d0887\"],[0.1111111111111111,\"#46039f\"],[0.2222222222222222,\"#7201a8\"],[0.3333333333333333,\"#9c179e\"],[0.4444444444444444,\"#bd3786\"],[0.5555555555555556,\"#d8576b\"],[0.6666666666666666,\"#ed7953\"],[0.7777777777777778,\"#fb9f3a\"],[0.8888888888888888,\"#fdca26\"],[1.0,\"#f0f921\"]],\"diverging\":[[0,\"#8e0152\"],[0.1,\"#c51b7d\"],[0.2,\"#de77ae\"],[0.3,\"#f1b6da\"],[0.4,\"#fde0ef\"],[0.5,\"#f7f7f7\"],[0.6,\"#e6f5d0\"],[0.7,\"#b8e186\"],[0.8,\"#7fbc41\"],[0.9,\"#4d9221\"],[1,\"#276419\"]]},\"xaxis\":{\"gridcolor\":\"white\",\"linecolor\":\"white\",\"ticks\":\"\",\"title\":{\"standoff\":15},\"zerolinecolor\":\"white\",\"automargin\":true,\"zerolinewidth\":2},\"yaxis\":{\"gridcolor\":\"white\",\"linecolor\":\"white\",\"ticks\":\"\",\"title\":{\"standoff\":15},\"zerolinecolor\":\"white\",\"automargin\":true,\"zerolinewidth\":2},\"scene\":{\"xaxis\":{\"backgroundcolor\":\"#E5ECF6\",\"gridcolor\":\"white\",\"linecolor\":\"white\",\"showbackground\":true,\"ticks\":\"\",\"zerolinecolor\":\"white\",\"gridwidth\":2},\"yaxis\":{\"backgroundcolor\":\"#E5ECF6\",\"gridcolor\":\"white\",\"linecolor\":\"white\",\"showbackground\":true,\"ticks\":\"\",\"zerolinecolor\":\"white\",\"gridwidth\":2},\"zaxis\":{\"backgroundcolor\":\"#E5ECF6\",\"gridcolor\":\"white\",\"linecolor\":\"white\",\"showbackground\":true,\"ticks\":\"\",\"zerolinecolor\":\"white\",\"gridwidth\":2}},\"shapedefaults\":{\"line\":{\"color\":\"#2a3f5f\"}},\"annotationdefaults\":{\"arrowcolor\":\"#2a3f5f\",\"arrowhead\":0,\"arrowwidth\":1},\"geo\":{\"bgcolor\":\"white\",\"landcolor\":\"#E5ECF6\",\"subunitcolor\":\"white\",\"showland\":true,\"showlakes\":true,\"lakecolor\":\"white\"},\"title\":{\"x\":0.05},\"mapbox\":{\"style\":\"light\"}}},\"mapbox\":{\"domain\":{\"x\":[0.0,1.0],\"y\":[0.0,1.0]},\"center\":{\"lat\":43.893980000000006,\"lon\":-57.837599999999995},\"zoom\":3,\"style\":\"open-street-map\"},\"legend\":{\"tracegroupgap\":0},\"margin\":{\"t\":0,\"r\":0,\"l\":0,\"b\":0},\"height\":300},                        {\"responsive\": true}                    ).then(function(){\n",
       "                            \n",
       "var gd = document.getElementById('edf4c1b8-2709-4ce7-a32c-9dac0324cd38');\n",
       "var x = new MutationObserver(function (mutations, observer) {{\n",
       "        var display = window.getComputedStyle(gd).display;\n",
       "        if (!display || display === 'none') {{\n",
       "            console.log([gd, 'removed!']);\n",
       "            Plotly.purge(gd);\n",
       "            observer.disconnect();\n",
       "        }}\n",
       "}});\n",
       "\n",
       "// Listen for the removal of the full notebook cells\n",
       "var notebookContainer = gd.closest('#notebook-container');\n",
       "if (notebookContainer) {{\n",
       "    x.observe(notebookContainer, {childList: true});\n",
       "}}\n",
       "\n",
       "// Listen for the clearing of the current output cell\n",
       "var outputEl = gd.closest('.output');\n",
       "if (outputEl) {{\n",
       "    x.observe(outputEl, {childList: true});\n",
       "}}\n",
       "\n",
       "                        })                };                });            </script>        </div>"
      ]
     },
     "metadata": {},
     "output_type": "display_data"
    }
   ],
   "source": [
    "maps(data_prova)"
   ]
  },
  {
   "cell_type": "markdown",
   "id": "d1df93a6",
   "metadata": {},
   "source": []
  }
 ],
 "metadata": {
  "kernelspec": {
   "display_name": "Python 3 (ipykernel)",
   "language": "python",
   "name": "python3"
  },
  "language_info": {
   "codemirror_mode": {
    "name": "ipython",
    "version": 3
   },
   "file_extension": ".py",
   "mimetype": "text/x-python",
   "name": "python",
   "nbconvert_exporter": "python",
   "pygments_lexer": "ipython3",
   "version": "3.9.13"
  }
 },
 "nbformat": 4,
 "nbformat_minor": 5
}
